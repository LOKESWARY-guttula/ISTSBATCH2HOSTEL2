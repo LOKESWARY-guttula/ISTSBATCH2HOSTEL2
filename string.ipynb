{
 "cells": [
  {
   "cell_type": "code",
   "execution_count": 1,
   "id": "701bdcc5",
   "metadata": {},
   "outputs": [
    {
     "name": "stdout",
     "output_type": "stream",
     "text": [
      "lokeswary\n"
     ]
    }
   ],
   "source": [
    "name = \"lokeswary\"\n",
    "print(name)"
   ]
  },
  {
   "cell_type": "code",
   "execution_count": null,
   "id": "27304b5e",
   "metadata": {},
   "outputs": [
    {
     "ename": "AttributeError",
     "evalue": "'str' object has no attribute 'captalize'",
     "output_type": "error",
     "traceback": [
      "\u001b[31m---------------------------------------------------------------------------\u001b[39m",
      "\u001b[31mAttributeError\u001b[39m                            Traceback (most recent call last)",
      "\u001b[36mCell\u001b[39m\u001b[36m \u001b[39m\u001b[32mIn[2]\u001b[39m\u001b[32m, line 2\u001b[39m\n\u001b[32m      1\u001b[39m name =\u001b[33m\"\u001b[39m\u001b[33mprabhas kumar\u001b[39m\u001b[33m\"\u001b[39m\n\u001b[32m----> \u001b[39m\u001b[32m2\u001b[39m \u001b[38;5;28mprint\u001b[39m(\u001b[43mname\u001b[49m\u001b[43m.\u001b[49m\u001b[43mcaptalize\u001b[49m)\n",
      "\u001b[31mAttributeError\u001b[39m: 'str' object has no attribute 'captalize'"
     ]
    }
   ],
   "source": [
    "name =\"prabhas kumar\"\n",
    "print(name.captalize)\n"
   ]
  },
  {
   "cell_type": "code",
   "execution_count": 3,
   "id": "aa982e5d",
   "metadata": {},
   "outputs": [
    {
     "name": "stdout",
     "output_type": "stream",
     "text": [
      "10\n",
      " \n",
      "p\n"
     ]
    }
   ],
   "source": [
    "name = \" prabhas  \"\n",
    "print(len(name))\n",
    "\n",
    "print(name[0])\n",
    "print(name[1])\n",
    "\n"
   ]
  },
  {
   "cell_type": "code",
   "execution_count": 12,
   "id": "4c3a1828",
   "metadata": {},
   "outputs": [
    {
     "name": "stdout",
     "output_type": "stream",
     "text": [
      "13\n",
      "prabhas\n",
      "kumar\n",
      "bhas kum\n",
      "r\n",
      "r\n",
      "r\n",
      "s\n",
      "s\n"
     ]
    }
   ],
   "source": [
    "first_name =\"prabhas kumar\"\n",
    "print(len(first_name))\n",
    "print(first_name[:7])\n",
    "print(first_name[8:])\n",
    "print(first_name[3:11])\n",
    "print(first_name[12])\n",
    "print(first_name[-1])\n",
    "print(first_name[-12])\n",
    "\n",
    "print(first_name[6])\n",
    "print(first_name[-7])"
   ]
  },
  {
   "cell_type": "code",
   "execution_count": 13,
   "id": "6e1e978f",
   "metadata": {},
   "outputs": [
    {
     "name": "stdout",
     "output_type": "stream",
     "text": [
      "Edunet foundation\n",
      "Edunet \n"
     ]
    }
   ],
   "source": [
    "full_name =\"Edunet foundation\"\n",
    "print(full_name)\n",
    "last_name = full_name[:7]\n",
    "print(last_name)\n"
   ]
  },
  {
   "cell_type": "code",
   "execution_count": 17,
   "id": "63e93798",
   "metadata": {},
   "outputs": [
    {
     "name": "stdout",
     "output_type": "stream",
     "text": [
      "['python', 'programming', 'is', 'fun']\n",
      "y\n",
      "r\n",
      "s\n",
      "u\n"
     ]
    }
   ],
   "source": [
    "string =\"python programming is fun\"\n",
    "words =string.split()\n",
    "print(words)\n",
    "print(words[0][1])\n",
    "print(words[1][1])\n",
    "print(words[2][1])\n",
    "print(words[3][1])\n"
   ]
  },
  {
   "cell_type": "code",
   "execution_count": null,
   "id": "c467faaf",
   "metadata": {},
   "outputs": [],
   "source": [
    "string = \"Data science in  awesome\"\n"
   ]
  },
  {
   "cell_type": "code",
   "execution_count": null,
   "id": "68d3920f",
   "metadata": {},
   "outputs": [],
   "source": []
  }
 ],
 "metadata": {
  "kernelspec": {
   "display_name": "Python 3",
   "language": "python",
   "name": "python3"
  },
  "language_info": {
   "codemirror_mode": {
    "name": "ipython",
    "version": 3
   },
   "file_extension": ".py",
   "mimetype": "text/x-python",
   "name": "python",
   "nbconvert_exporter": "python",
   "pygments_lexer": "ipython3",
   "version": "3.12.3"
  }
 },
 "nbformat": 4,
 "nbformat_minor": 5
}
