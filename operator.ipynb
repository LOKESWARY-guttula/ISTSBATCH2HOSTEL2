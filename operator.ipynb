{
 "cells": [
  {
   "cell_type": "code",
   "execution_count": 1,
   "id": "02ceb178",
   "metadata": {},
   "outputs": [],
   "source": [
    "num1 = 10 #assingment operator"
   ]
  },
  {
   "cell_type": "code",
   "execution_count": 2,
   "id": "8d52e954",
   "metadata": {},
   "outputs": [
    {
     "name": "stdout",
     "output_type": "stream",
     "text": [
      "30\n",
      "30\n"
     ]
    }
   ],
   "source": [
    "num1= 10\n",
    "num2 = 20\n",
    "print(num1+num2)\n",
    "sum= num1+num2\n",
    "print(sum)"
   ]
  },
  {
   "cell_type": "code",
   "execution_count": null,
   "id": "bdeefb33",
   "metadata": {},
   "outputs": [],
   "source": [
    "#arthemetic operator\n",
    "\n",
    "num1 = 200\n",
    "num2 = 500\n",
    "\n",
    "sum = num1+num2 #700\n",
    "sum = num1-num2\n",
    "sum = num1*num2\n",
    "sum = num1/num2\n",
    "sum = num1%num2\n"
   ]
  }
 ],
 "metadata": {
  "kernelspec": {
   "display_name": "Python 3",
   "language": "python",
   "name": "python3"
  },
  "language_info": {
   "codemirror_mode": {
    "name": "ipython",
    "version": 3
   },
   "file_extension": ".py",
   "mimetype": "text/x-python",
   "name": "python",
   "nbconvert_exporter": "python",
   "pygments_lexer": "ipython3",
   "version": "3.13.3"
  }
 },
 "nbformat": 4,
 "nbformat_minor": 5
}
