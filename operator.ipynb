{
 "cells": [
  {
   "cell_type": "code",
   "execution_count": 1,
   "id": "02ceb178",
   "metadata": {},
   "outputs": [],
   "source": [
    "num1 = 10 #assingment operator"
   ]
  },
  {
   "cell_type": "code",
   "execution_count": 2,
   "id": "8d52e954",
   "metadata": {},
   "outputs": [
    {
     "name": "stdout",
     "output_type": "stream",
     "text": [
      "30\n",
      "30\n"
     ]
    }
   ],
   "source": [
    "num1= 10\n",
    "num2 = 20\n",
    "print(num1+num2)\n",
    "sum= num1+num2\n",
    "print(sum)"
   ]
  },
  {
   "cell_type": "code",
   "execution_count": 2,
   "id": "bdeefb33",
   "metadata": {},
   "outputs": [
    {
     "name": "stdout",
     "output_type": "stream",
     "text": [
      "200\n"
     ]
    }
   ],
   "source": [
    "#arthemetic operator\n",
    "\n",
    "num1 = 200\n",
    "num2 = 500\n",
    "\n",
    "sum = num1+num2 #700\n",
    "sum = num1-num2\n",
    "sum = num1*num2\n",
    "sum = num1/num2\n",
    "sum = num1%num2\n",
    "print(sum)\n"
   ]
  },
  {
   "cell_type": "code",
   "execution_count": 1,
   "id": "94e516ed",
   "metadata": {},
   "outputs": [
    {
     "name": "stdout",
     "output_type": "stream",
     "text": [
      "500\n",
      "800\n",
      "500\n",
      "1500\n"
     ]
    }
   ],
   "source": [
    "num2 =500\n",
    "print(num2)\n",
    "\n",
    "num2 += 300\n",
    "print(num2)\n",
    "\n",
    "#num2 =- 300\n",
    "num2 -=300\n",
    "print(num2)\n",
    "\n",
    "num2 *=3\n",
    "print(num2) #1500\n",
    "\n",
    "#div =(num2/*500)\n",
    "#num2 /=500\n",
    "#print(num2)"
   ]
  },
  {
   "cell_type": "code",
   "execution_count": 3,
   "id": "7e01a1d9",
   "metadata": {},
   "outputs": [
    {
     "name": "stdout",
     "output_type": "stream",
     "text": [
      "True\n",
      "False\n",
      "False\n",
      "True\n",
      "False\n",
      "True\n"
     ]
    }
   ],
   "source": [
    "n1 = 500\n",
    "n2 = 600\n",
    "print(n1 < n2)\n",
    "print(n1 > n2)\n",
    "print(n1 == n2)\n",
    "print(n1 <= n2)\n",
    "print(n1 >= n2)\n",
    "print(n1 != n2)"
   ]
  },
  {
   "cell_type": "code",
   "execution_count": 4,
   "id": "46d574db",
   "metadata": {},
   "outputs": [
    {
     "name": "stdout",
     "output_type": "stream",
     "text": [
      "True\n",
      "False\n",
      "False\n",
      "False\n",
      "--------------\n",
      "True\n",
      "True\n",
      "True\n"
     ]
    }
   ],
   "source": [
    "\n",
    "num1 = 20\n",
    "num2 = 30\n",
    "num3 = 25\n",
    "num4 = 15\n",
    "\n",
    "#1 and 1 = 1\n",
    "#1 and 0 = 0\n",
    "#1 and 1 = 0\n",
    "#1 and 0 = 0\n",
    "\n",
    "print(num1 < num2 and num3 > num4)\n",
    "print(num1 > num2 and num3 == num4) #T and F = F\n",
    "print(num1 > num2 and num3 < num4)  #T and T = F\n",
    "print(num1 > num2 and num3 < num4)  #F and F = F\n",
    "\n",
    "\n",
    "#1 or 1 = 1\n",
    "#1 or 0 = 1\n",
    "#0 or 1 = 1\n",
    "#0 or 0 = 0\n",
    "print(\"--------------\")\n",
    "print(num1 < num2 or num3 > num4)\n",
    "print(num1 < num2 or num3 == num4)\n",
    "print(num1 > num2 or num3 > num4)"
   ]
  },
  {
   "cell_type": "code",
   "execution_count": 5,
   "id": "a67c62b1",
   "metadata": {},
   "outputs": [
    {
     "name": "stdout",
     "output_type": "stream",
     "text": [
      "True\n",
      "False\n",
      "-------------\n",
      "False\n",
      "False\n"
     ]
    }
   ],
   "source": [
    "num1 = 10\n",
    "num2 = 20\n",
    "print(num1<num2)\n",
    "print(not(num1<num2))\n",
    "print(\"-------------\")\n",
    "print(num1>num2)\n",
    "print(not(num1<num2))"
   ]
  },
  {
   "cell_type": "code",
   "execution_count": 6,
   "id": "dd2ba472",
   "metadata": {},
   "outputs": [
    {
     "name": "stdout",
     "output_type": "stream",
     "text": [
      "Bitwise AND:  4\n"
     ]
    }
   ],
   "source": [
    "# 3 = 011\n",
    "# 4 = 100\n",
    "# 5 = 101\n",
    "\n",
    "num1 = 4 # 100\n",
    "num2 = 5 # 101        #100 #4\n",
    "print(\"Bitwise AND: \", num1 & num2)\n"
   ]
  },
  {
   "cell_type": "code",
   "execution_count": 7,
   "id": "f758bde8",
   "metadata": {},
   "outputs": [
    {
     "name": "stdout",
     "output_type": "stream",
     "text": [
      "Bitwise AND:  8\n",
      "Bitwise OR :  10\n",
      "Bitwise XOR:  1\n"
     ]
    }
   ],
   "source": [
    "num3 = 8     #= 1000\n",
    "num4 = 10    #= 1010     #1000 #8\n",
    "print(\"Bitwise AND: \", num3 & num4)\n",
    "print(\"Bitwise OR : \", num3 | num4)\n",
    "print(\"Bitwise XOR: \", num1 ^ num2)\n",
    "# 1 xor 1 = 0\n",
    "# 0 xor 0 = 0\n",
    "# 1 xor 0 = 1\n",
    "# 0 xor 1 = 1"
   ]
  }
 ],
 "metadata": {
  "kernelspec": {
   "display_name": "Python 3",
   "language": "python",
   "name": "python3"
  },
  "language_info": {
   "codemirror_mode": {
    "name": "ipython",
    "version": 3
   },
   "file_extension": ".py",
   "mimetype": "text/x-python",
   "name": "python",
   "nbconvert_exporter": "python",
   "pygments_lexer": "ipython3",
   "version": "3.12.3"
  }
 },
 "nbformat": 4,
 "nbformat_minor": 5
}
