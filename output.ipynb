{
 "cells": [
  {
   "cell_type": "code",
   "execution_count": 1,
   "id": "875fe187",
   "metadata": {},
   "outputs": [
    {
     "name": "stdout",
     "output_type": "stream",
     "text": [
      "hello world\n",
      "4\n",
      "3 4\n",
      "7\n",
      "hello ISTSW\n",
      "helloISTSW\n"
     ]
    }
   ],
   "source": [
    "print(\"hello world\")\n",
    "print(4)\n",
    "print(3,4)\n",
    "print(3+4) #addition\n",
    "print(\"hello\",\"ISTSW\")\n",
    "print(\"hello\"+ \"ISTSW\")\n"
   ]
  },
  {
   "cell_type": "code",
   "execution_count": 2,
   "id": "ceb1dc4f",
   "metadata": {},
   "outputs": [
    {
     "name": "stdout",
     "output_type": "stream",
     "text": [
      "6\n"
     ]
    }
   ],
   "source": [
    "num1 = int(input(\"enter the first number\"))\n",
    "num2 = int(input(\"enter the second number\"))\n",
    "sum =(num1+num2)\n",
    "print(sum)"
   ]
  }
 ],
 "metadata": {
  "kernelspec": {
   "display_name": "Python 3",
   "language": "python",
   "name": "python3"
  },
  "language_info": {
   "codemirror_mode": {
    "name": "ipython",
    "version": 3
   },
   "file_extension": ".py",
   "mimetype": "text/x-python",
   "name": "python",
   "nbconvert_exporter": "python",
   "pygments_lexer": "ipython3",
   "version": "3.12.3"
  }
 },
 "nbformat": 4,
 "nbformat_minor": 5
}
